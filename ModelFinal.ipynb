{
  "nbformat": 4,
  "nbformat_minor": 0,
  "metadata": {
    "colab": {
      "name": "ModelFinal.ipynb",
      "provenance": [],
      "collapsed_sections": [],
      "authorship_tag": "ABX9TyNq8Ju12Ls857gevQO2OVWM",
      "include_colab_link": true
    },
    "kernelspec": {
      "name": "python3",
      "display_name": "Python 3"
    },
    "language_info": {
      "name": "python"
    }
  },
  "cells": [
    {
      "cell_type": "markdown",
      "metadata": {
        "id": "view-in-github",
        "colab_type": "text"
      },
      "source": [
        "<a href=\"https://colab.research.google.com/github/eslameid1/face_recognition/blob/master/ModelFinal.ipynb\" target=\"_parent\"><img src=\"https://colab.research.google.com/assets/colab-badge.svg\" alt=\"Open In Colab\"/></a>"
      ]
    },
    {
      "cell_type": "code",
      "execution_count": 2,
      "metadata": {
        "colab": {
          "base_uri": "https://localhost:8080/"
        },
        "id": "0HuAmibKD26P",
        "outputId": "000d2db5-8409-4149-9b88-fb75050ff866"
      },
      "outputs": [
        {
          "output_type": "stream",
          "name": "stdout",
          "text": [
            "Drive already mounted at /content/drive; to attempt to forcibly remount, call drive.mount(\"/content/drive\", force_remount=True).\n"
          ]
        }
      ],
      "source": [
        "from google.colab import drive\n",
        "drive.mount('/content/drive')"
      ]
    },
    {
      "cell_type": "code",
      "execution_count": null,
      "metadata": {
        "colab": {
          "base_uri": "https://localhost:8080/"
        },
        "id": "UIpuyY6ytRMq",
        "outputId": "2459d021-3b99-4605-b308-0dc09a4c7d9e"
      },
      "outputs": [
        {
          "output_type": "stream",
          "name": "stdout",
          "text": [
            "WARNING:tensorflow:No training configuration found in the save file, so the model was *not* compiled. Compile it manually.\n",
            "[<KerasTensor: shape=(None, 160, 160, 3) dtype=float32 (created by layer 'input_1')>]\n",
            "[<KerasTensor: shape=(None, 128) dtype=float32 (created by layer 'Bottleneck_BatchNorm')>]\n"
          ]
        }
      ],
      "source": [
        "# example of loading the keras facenet model\n",
        "from keras.models import load_model\n",
        "# load the model\n",
        "model = load_model('/content/drive/MyDrive/Selected/facenet_keras.h5')\n",
        "# summarize input and output shape\n",
        "print(model.inputs)\n",
        "print(model.outputs)"
      ]
    },
    {
      "cell_type": "code",
      "execution_count": null,
      "metadata": {
        "colab": {
          "base_uri": "https://localhost:8080/"
        },
        "id": "kwbe0PPj6xla",
        "outputId": "65c29688-6267-4420-8780-c9c0ebb94815"
      },
      "outputs": [
        {
          "output_type": "stream",
          "name": "stdout",
          "text": [
            "Collecting mtcnn\n",
            "  Downloading mtcnn-0.1.1-py3-none-any.whl (2.3 MB)\n",
            "\u001b[?25l\r\u001b[K     |▏                               | 10 kB 32.6 MB/s eta 0:00:01\r\u001b[K     |▎                               | 20 kB 34.5 MB/s eta 0:00:01\r\u001b[K     |▍                               | 30 kB 40.8 MB/s eta 0:00:01\r\u001b[K     |▋                               | 40 kB 27.4 MB/s eta 0:00:01\r\u001b[K     |▊                               | 51 kB 21.6 MB/s eta 0:00:01\r\u001b[K     |▉                               | 61 kB 24.5 MB/s eta 0:00:01\r\u001b[K     |█                               | 71 kB 22.8 MB/s eta 0:00:01\r\u001b[K     |█▏                              | 81 kB 24.6 MB/s eta 0:00:01\r\u001b[K     |█▎                              | 92 kB 26.3 MB/s eta 0:00:01\r\u001b[K     |█▌                              | 102 kB 25.7 MB/s eta 0:00:01\r\u001b[K     |█▋                              | 112 kB 25.7 MB/s eta 0:00:01\r\u001b[K     |█▊                              | 122 kB 25.7 MB/s eta 0:00:01\r\u001b[K     |█▉                              | 133 kB 25.7 MB/s eta 0:00:01\r\u001b[K     |██                              | 143 kB 25.7 MB/s eta 0:00:01\r\u001b[K     |██▏                             | 153 kB 25.7 MB/s eta 0:00:01\r\u001b[K     |██▎                             | 163 kB 25.7 MB/s eta 0:00:01\r\u001b[K     |██▌                             | 174 kB 25.7 MB/s eta 0:00:01\r\u001b[K     |██▋                             | 184 kB 25.7 MB/s eta 0:00:01\r\u001b[K     |██▊                             | 194 kB 25.7 MB/s eta 0:00:01\r\u001b[K     |███                             | 204 kB 25.7 MB/s eta 0:00:01\r\u001b[K     |███                             | 215 kB 25.7 MB/s eta 0:00:01\r\u001b[K     |███▏                            | 225 kB 25.7 MB/s eta 0:00:01\r\u001b[K     |███▍                            | 235 kB 25.7 MB/s eta 0:00:01\r\u001b[K     |███▌                            | 245 kB 25.7 MB/s eta 0:00:01\r\u001b[K     |███▋                            | 256 kB 25.7 MB/s eta 0:00:01\r\u001b[K     |███▊                            | 266 kB 25.7 MB/s eta 0:00:01\r\u001b[K     |████                            | 276 kB 25.7 MB/s eta 0:00:01\r\u001b[K     |████                            | 286 kB 25.7 MB/s eta 0:00:01\r\u001b[K     |████▏                           | 296 kB 25.7 MB/s eta 0:00:01\r\u001b[K     |████▍                           | 307 kB 25.7 MB/s eta 0:00:01\r\u001b[K     |████▌                           | 317 kB 25.7 MB/s eta 0:00:01\r\u001b[K     |████▋                           | 327 kB 25.7 MB/s eta 0:00:01\r\u001b[K     |████▉                           | 337 kB 25.7 MB/s eta 0:00:01\r\u001b[K     |█████                           | 348 kB 25.7 MB/s eta 0:00:01\r\u001b[K     |█████                           | 358 kB 25.7 MB/s eta 0:00:01\r\u001b[K     |█████▏                          | 368 kB 25.7 MB/s eta 0:00:01\r\u001b[K     |█████▍                          | 378 kB 25.7 MB/s eta 0:00:01\r\u001b[K     |█████▌                          | 389 kB 25.7 MB/s eta 0:00:01\r\u001b[K     |█████▋                          | 399 kB 25.7 MB/s eta 0:00:01\r\u001b[K     |█████▉                          | 409 kB 25.7 MB/s eta 0:00:01\r\u001b[K     |██████                          | 419 kB 25.7 MB/s eta 0:00:01\r\u001b[K     |██████                          | 430 kB 25.7 MB/s eta 0:00:01\r\u001b[K     |██████▎                         | 440 kB 25.7 MB/s eta 0:00:01\r\u001b[K     |██████▍                         | 450 kB 25.7 MB/s eta 0:00:01\r\u001b[K     |██████▌                         | 460 kB 25.7 MB/s eta 0:00:01\r\u001b[K     |██████▊                         | 471 kB 25.7 MB/s eta 0:00:01\r\u001b[K     |██████▉                         | 481 kB 25.7 MB/s eta 0:00:01\r\u001b[K     |███████                         | 491 kB 25.7 MB/s eta 0:00:01\r\u001b[K     |███████                         | 501 kB 25.7 MB/s eta 0:00:01\r\u001b[K     |███████▎                        | 512 kB 25.7 MB/s eta 0:00:01\r\u001b[K     |███████▍                        | 522 kB 25.7 MB/s eta 0:00:01\r\u001b[K     |███████▌                        | 532 kB 25.7 MB/s eta 0:00:01\r\u001b[K     |███████▊                        | 542 kB 25.7 MB/s eta 0:00:01\r\u001b[K     |███████▉                        | 552 kB 25.7 MB/s eta 0:00:01\r\u001b[K     |████████                        | 563 kB 25.7 MB/s eta 0:00:01\r\u001b[K     |████████▏                       | 573 kB 25.7 MB/s eta 0:00:01\r\u001b[K     |████████▎                       | 583 kB 25.7 MB/s eta 0:00:01\r\u001b[K     |████████▍                       | 593 kB 25.7 MB/s eta 0:00:01\r\u001b[K     |████████▌                       | 604 kB 25.7 MB/s eta 0:00:01\r\u001b[K     |████████▊                       | 614 kB 25.7 MB/s eta 0:00:01\r\u001b[K     |████████▉                       | 624 kB 25.7 MB/s eta 0:00:01\r\u001b[K     |█████████                       | 634 kB 25.7 MB/s eta 0:00:01\r\u001b[K     |█████████▏                      | 645 kB 25.7 MB/s eta 0:00:01\r\u001b[K     |█████████▎                      | 655 kB 25.7 MB/s eta 0:00:01\r\u001b[K     |█████████▍                      | 665 kB 25.7 MB/s eta 0:00:01\r\u001b[K     |█████████▋                      | 675 kB 25.7 MB/s eta 0:00:01\r\u001b[K     |█████████▊                      | 686 kB 25.7 MB/s eta 0:00:01\r\u001b[K     |█████████▉                      | 696 kB 25.7 MB/s eta 0:00:01\r\u001b[K     |██████████                      | 706 kB 25.7 MB/s eta 0:00:01\r\u001b[K     |██████████▏                     | 716 kB 25.7 MB/s eta 0:00:01\r\u001b[K     |██████████▎                     | 727 kB 25.7 MB/s eta 0:00:01\r\u001b[K     |██████████▍                     | 737 kB 25.7 MB/s eta 0:00:01\r\u001b[K     |██████████▋                     | 747 kB 25.7 MB/s eta 0:00:01\r\u001b[K     |██████████▊                     | 757 kB 25.7 MB/s eta 0:00:01\r\u001b[K     |██████████▉                     | 768 kB 25.7 MB/s eta 0:00:01\r\u001b[K     |███████████                     | 778 kB 25.7 MB/s eta 0:00:01\r\u001b[K     |███████████▏                    | 788 kB 25.7 MB/s eta 0:00:01\r\u001b[K     |███████████▎                    | 798 kB 25.7 MB/s eta 0:00:01\r\u001b[K     |███████████▌                    | 808 kB 25.7 MB/s eta 0:00:01\r\u001b[K     |███████████▋                    | 819 kB 25.7 MB/s eta 0:00:01\r\u001b[K     |███████████▊                    | 829 kB 25.7 MB/s eta 0:00:01\r\u001b[K     |███████████▉                    | 839 kB 25.7 MB/s eta 0:00:01\r\u001b[K     |████████████                    | 849 kB 25.7 MB/s eta 0:00:01\r\u001b[K     |████████████▏                   | 860 kB 25.7 MB/s eta 0:00:01\r\u001b[K     |████████████▎                   | 870 kB 25.7 MB/s eta 0:00:01\r\u001b[K     |████████████▌                   | 880 kB 25.7 MB/s eta 0:00:01\r\u001b[K     |████████████▋                   | 890 kB 25.7 MB/s eta 0:00:01\r\u001b[K     |████████████▊                   | 901 kB 25.7 MB/s eta 0:00:01\r\u001b[K     |█████████████                   | 911 kB 25.7 MB/s eta 0:00:01\r\u001b[K     |█████████████                   | 921 kB 25.7 MB/s eta 0:00:01\r\u001b[K     |█████████████▏                  | 931 kB 25.7 MB/s eta 0:00:01\r\u001b[K     |█████████████▍                  | 942 kB 25.7 MB/s eta 0:00:01\r\u001b[K     |█████████████▌                  | 952 kB 25.7 MB/s eta 0:00:01\r\u001b[K     |█████████████▋                  | 962 kB 25.7 MB/s eta 0:00:01\r\u001b[K     |█████████████▊                  | 972 kB 25.7 MB/s eta 0:00:01\r\u001b[K     |██████████████                  | 983 kB 25.7 MB/s eta 0:00:01\r\u001b[K     |██████████████                  | 993 kB 25.7 MB/s eta 0:00:01\r\u001b[K     |██████████████▏                 | 1.0 MB 25.7 MB/s eta 0:00:01\r\u001b[K     |██████████████▍                 | 1.0 MB 25.7 MB/s eta 0:00:01\r\u001b[K     |██████████████▌                 | 1.0 MB 25.7 MB/s eta 0:00:01\r\u001b[K     |██████████████▋                 | 1.0 MB 25.7 MB/s eta 0:00:01\r\u001b[K     |██████████████▉                 | 1.0 MB 25.7 MB/s eta 0:00:01\r\u001b[K     |███████████████                 | 1.1 MB 25.7 MB/s eta 0:00:01\r\u001b[K     |███████████████                 | 1.1 MB 25.7 MB/s eta 0:00:01\r\u001b[K     |███████████████▏                | 1.1 MB 25.7 MB/s eta 0:00:01\r\u001b[K     |███████████████▍                | 1.1 MB 25.7 MB/s eta 0:00:01\r\u001b[K     |███████████████▌                | 1.1 MB 25.7 MB/s eta 0:00:01\r\u001b[K     |███████████████▋                | 1.1 MB 25.7 MB/s eta 0:00:01\r\u001b[K     |███████████████▉                | 1.1 MB 25.7 MB/s eta 0:00:01\r\u001b[K     |████████████████                | 1.1 MB 25.7 MB/s eta 0:00:01\r\u001b[K     |████████████████                | 1.1 MB 25.7 MB/s eta 0:00:01\r\u001b[K     |████████████████▎               | 1.1 MB 25.7 MB/s eta 0:00:01\r\u001b[K     |████████████████▍               | 1.2 MB 25.7 MB/s eta 0:00:01\r\u001b[K     |████████████████▌               | 1.2 MB 25.7 MB/s eta 0:00:01\r\u001b[K     |████████████████▊               | 1.2 MB 25.7 MB/s eta 0:00:01\r\u001b[K     |████████████████▉               | 1.2 MB 25.7 MB/s eta 0:00:01\r\u001b[K     |█████████████████               | 1.2 MB 25.7 MB/s eta 0:00:01\r\u001b[K     |█████████████████               | 1.2 MB 25.7 MB/s eta 0:00:01\r\u001b[K     |█████████████████▎              | 1.2 MB 25.7 MB/s eta 0:00:01\r\u001b[K     |█████████████████▍              | 1.2 MB 25.7 MB/s eta 0:00:01\r\u001b[K     |█████████████████▌              | 1.2 MB 25.7 MB/s eta 0:00:01\r\u001b[K     |█████████████████▊              | 1.2 MB 25.7 MB/s eta 0:00:01\r\u001b[K     |█████████████████▉              | 1.3 MB 25.7 MB/s eta 0:00:01\r\u001b[K     |██████████████████              | 1.3 MB 25.7 MB/s eta 0:00:01\r\u001b[K     |██████████████████▏             | 1.3 MB 25.7 MB/s eta 0:00:01\r\u001b[K     |██████████████████▎             | 1.3 MB 25.7 MB/s eta 0:00:01\r\u001b[K     |██████████████████▍             | 1.3 MB 25.7 MB/s eta 0:00:01\r\u001b[K     |██████████████████▌             | 1.3 MB 25.7 MB/s eta 0:00:01\r\u001b[K     |██████████████████▊             | 1.3 MB 25.7 MB/s eta 0:00:01\r\u001b[K     |██████████████████▉             | 1.3 MB 25.7 MB/s eta 0:00:01\r\u001b[K     |███████████████████             | 1.3 MB 25.7 MB/s eta 0:00:01\r\u001b[K     |███████████████████▏            | 1.4 MB 25.7 MB/s eta 0:00:01\r\u001b[K     |███████████████████▎            | 1.4 MB 25.7 MB/s eta 0:00:01\r\u001b[K     |███████████████████▍            | 1.4 MB 25.7 MB/s eta 0:00:01\r\u001b[K     |███████████████████▋            | 1.4 MB 25.7 MB/s eta 0:00:01\r\u001b[K     |███████████████████▊            | 1.4 MB 25.7 MB/s eta 0:00:01\r\u001b[K     |███████████████████▉            | 1.4 MB 25.7 MB/s eta 0:00:01\r\u001b[K     |████████████████████            | 1.4 MB 25.7 MB/s eta 0:00:01\r\u001b[K     |████████████████████▏           | 1.4 MB 25.7 MB/s eta 0:00:01\r\u001b[K     |████████████████████▎           | 1.4 MB 25.7 MB/s eta 0:00:01\r\u001b[K     |████████████████████▍           | 1.4 MB 25.7 MB/s eta 0:00:01\r\u001b[K     |████████████████████▋           | 1.5 MB 25.7 MB/s eta 0:00:01\r\u001b[K     |████████████████████▊           | 1.5 MB 25.7 MB/s eta 0:00:01\r\u001b[K     |████████████████████▉           | 1.5 MB 25.7 MB/s eta 0:00:01\r\u001b[K     |█████████████████████           | 1.5 MB 25.7 MB/s eta 0:00:01\r\u001b[K     |█████████████████████▏          | 1.5 MB 25.7 MB/s eta 0:00:01\r\u001b[K     |█████████████████████▎          | 1.5 MB 25.7 MB/s eta 0:00:01\r\u001b[K     |█████████████████████▌          | 1.5 MB 25.7 MB/s eta 0:00:01\r\u001b[K     |█████████████████████▋          | 1.5 MB 25.7 MB/s eta 0:00:01\r\u001b[K     |█████████████████████▊          | 1.5 MB 25.7 MB/s eta 0:00:01\r\u001b[K     |██████████████████████          | 1.5 MB 25.7 MB/s eta 0:00:01\r\u001b[K     |██████████████████████          | 1.6 MB 25.7 MB/s eta 0:00:01\r\u001b[K     |██████████████████████▏         | 1.6 MB 25.7 MB/s eta 0:00:01\r\u001b[K     |██████████████████████▎         | 1.6 MB 25.7 MB/s eta 0:00:01\r\u001b[K     |██████████████████████▌         | 1.6 MB 25.7 MB/s eta 0:00:01\r\u001b[K     |██████████████████████▋         | 1.6 MB 25.7 MB/s eta 0:00:01\r\u001b[K     |██████████████████████▊         | 1.6 MB 25.7 MB/s eta 0:00:01\r\u001b[K     |███████████████████████         | 1.6 MB 25.7 MB/s eta 0:00:01\r\u001b[K     |███████████████████████         | 1.6 MB 25.7 MB/s eta 0:00:01\r\u001b[K     |███████████████████████▏        | 1.6 MB 25.7 MB/s eta 0:00:01\r\u001b[K     |███████████████████████▍        | 1.6 MB 25.7 MB/s eta 0:00:01\r\u001b[K     |███████████████████████▌        | 1.7 MB 25.7 MB/s eta 0:00:01\r\u001b[K     |███████████████████████▋        | 1.7 MB 25.7 MB/s eta 0:00:01\r\u001b[K     |███████████████████████▊        | 1.7 MB 25.7 MB/s eta 0:00:01\r\u001b[K     |████████████████████████        | 1.7 MB 25.7 MB/s eta 0:00:01\r\u001b[K     |████████████████████████        | 1.7 MB 25.7 MB/s eta 0:00:01\r\u001b[K     |████████████████████████▏       | 1.7 MB 25.7 MB/s eta 0:00:01\r\u001b[K     |████████████████████████▍       | 1.7 MB 25.7 MB/s eta 0:00:01\r\u001b[K     |████████████████████████▌       | 1.7 MB 25.7 MB/s eta 0:00:01\r\u001b[K     |████████████████████████▋       | 1.7 MB 25.7 MB/s eta 0:00:01\r\u001b[K     |████████████████████████▉       | 1.8 MB 25.7 MB/s eta 0:00:01\r\u001b[K     |█████████████████████████       | 1.8 MB 25.7 MB/s eta 0:00:01\r\u001b[K     |█████████████████████████       | 1.8 MB 25.7 MB/s eta 0:00:01\r\u001b[K     |█████████████████████████▎      | 1.8 MB 25.7 MB/s eta 0:00:01\r\u001b[K     |█████████████████████████▍      | 1.8 MB 25.7 MB/s eta 0:00:01\r\u001b[K     |█████████████████████████▌      | 1.8 MB 25.7 MB/s eta 0:00:01\r\u001b[K     |█████████████████████████▋      | 1.8 MB 25.7 MB/s eta 0:00:01\r\u001b[K     |█████████████████████████▉      | 1.8 MB 25.7 MB/s eta 0:00:01\r\u001b[K     |██████████████████████████      | 1.8 MB 25.7 MB/s eta 0:00:01\r\u001b[K     |██████████████████████████      | 1.8 MB 25.7 MB/s eta 0:00:01\r\u001b[K     |██████████████████████████▎     | 1.9 MB 25.7 MB/s eta 0:00:01\r\u001b[K     |██████████████████████████▍     | 1.9 MB 25.7 MB/s eta 0:00:01\r\u001b[K     |██████████████████████████▌     | 1.9 MB 25.7 MB/s eta 0:00:01\r\u001b[K     |██████████████████████████▊     | 1.9 MB 25.7 MB/s eta 0:00:01\r\u001b[K     |██████████████████████████▉     | 1.9 MB 25.7 MB/s eta 0:00:01\r\u001b[K     |███████████████████████████     | 1.9 MB 25.7 MB/s eta 0:00:01\r\u001b[K     |███████████████████████████     | 1.9 MB 25.7 MB/s eta 0:00:01\r\u001b[K     |███████████████████████████▎    | 1.9 MB 25.7 MB/s eta 0:00:01\r\u001b[K     |███████████████████████████▍    | 1.9 MB 25.7 MB/s eta 0:00:01\r\u001b[K     |███████████████████████████▌    | 1.9 MB 25.7 MB/s eta 0:00:01\r\u001b[K     |███████████████████████████▊    | 2.0 MB 25.7 MB/s eta 0:00:01\r\u001b[K     |███████████████████████████▉    | 2.0 MB 25.7 MB/s eta 0:00:01\r\u001b[K     |████████████████████████████    | 2.0 MB 25.7 MB/s eta 0:00:01\r\u001b[K     |████████████████████████████▏   | 2.0 MB 25.7 MB/s eta 0:00:01\r\u001b[K     |████████████████████████████▎   | 2.0 MB 25.7 MB/s eta 0:00:01\r\u001b[K     |████████████████████████████▍   | 2.0 MB 25.7 MB/s eta 0:00:01\r\u001b[K     |████████████████████████████▋   | 2.0 MB 25.7 MB/s eta 0:00:01\r\u001b[K     |████████████████████████████▊   | 2.0 MB 25.7 MB/s eta 0:00:01\r\u001b[K     |████████████████████████████▉   | 2.0 MB 25.7 MB/s eta 0:00:01\r\u001b[K     |█████████████████████████████   | 2.0 MB 25.7 MB/s eta 0:00:01\r\u001b[K     |█████████████████████████████▏  | 2.1 MB 25.7 MB/s eta 0:00:01\r\u001b[K     |█████████████████████████████▎  | 2.1 MB 25.7 MB/s eta 0:00:01\r\u001b[K     |█████████████████████████████▍  | 2.1 MB 25.7 MB/s eta 0:00:01\r\u001b[K     |█████████████████████████████▋  | 2.1 MB 25.7 MB/s eta 0:00:01\r\u001b[K     |█████████████████████████████▊  | 2.1 MB 25.7 MB/s eta 0:00:01\r\u001b[K     |█████████████████████████████▉  | 2.1 MB 25.7 MB/s eta 0:00:01\r\u001b[K     |██████████████████████████████  | 2.1 MB 25.7 MB/s eta 0:00:01\r\u001b[K     |██████████████████████████████▏ | 2.1 MB 25.7 MB/s eta 0:00:01\r\u001b[K     |██████████████████████████████▎ | 2.1 MB 25.7 MB/s eta 0:00:01\r\u001b[K     |██████████████████████████████▍ | 2.2 MB 25.7 MB/s eta 0:00:01\r\u001b[K     |██████████████████████████████▋ | 2.2 MB 25.7 MB/s eta 0:00:01\r\u001b[K     |██████████████████████████████▊ | 2.2 MB 25.7 MB/s eta 0:00:01\r\u001b[K     |██████████████████████████████▉ | 2.2 MB 25.7 MB/s eta 0:00:01\r\u001b[K     |███████████████████████████████ | 2.2 MB 25.7 MB/s eta 0:00:01\r\u001b[K     |███████████████████████████████▏| 2.2 MB 25.7 MB/s eta 0:00:01\r\u001b[K     |███████████████████████████████▎| 2.2 MB 25.7 MB/s eta 0:00:01\r\u001b[K     |███████████████████████████████▌| 2.2 MB 25.7 MB/s eta 0:00:01\r\u001b[K     |███████████████████████████████▋| 2.2 MB 25.7 MB/s eta 0:00:01\r\u001b[K     |███████████████████████████████▊| 2.2 MB 25.7 MB/s eta 0:00:01\r\u001b[K     |████████████████████████████████| 2.3 MB 25.7 MB/s eta 0:00:01\r\u001b[K     |████████████████████████████████| 2.3 MB 25.7 MB/s \n",
            "\u001b[?25hRequirement already satisfied: opencv-python>=4.1.0 in /usr/local/lib/python3.7/dist-packages (from mtcnn) (4.1.2.30)\n",
            "Requirement already satisfied: keras>=2.0.0 in /usr/local/lib/python3.7/dist-packages (from mtcnn) (2.8.0)\n",
            "Requirement already satisfied: numpy>=1.14.5 in /usr/local/lib/python3.7/dist-packages (from opencv-python>=4.1.0->mtcnn) (1.21.6)\n",
            "Installing collected packages: mtcnn\n",
            "Successfully installed mtcnn-0.1.1\n"
          ]
        }
      ],
      "source": [
        "pip install mtcnn"
      ]
    },
    {
      "cell_type": "code",
      "execution_count": null,
      "metadata": {
        "colab": {
          "base_uri": "https://localhost:8080/"
        },
        "id": "9Rdd9HIs7VWO",
        "outputId": "48914e4b-2ada-4b57-f0ef-b18f44700147"
      },
      "outputs": [
        {
          "output_type": "stream",
          "name": "stdout",
          "text": [
            "0.1.0\n"
          ]
        }
      ],
      "source": [
        "# confirm mtcnn was installed correctly\n",
        "import mtcnn\n",
        "# print version\n",
        "print(mtcnn.__version__)"
      ]
    },
    {
      "cell_type": "code",
      "execution_count": null,
      "metadata": {
        "id": "y0r9SFhP8aOG"
      },
      "outputs": [],
      "source": [
        "# function for face detection with mtcnn\n",
        "from PIL import Image\n",
        "from numpy import asarray\n",
        "from mtcnn.mtcnn import MTCNN"
      ]
    },
    {
      "cell_type": "code",
      "execution_count": null,
      "metadata": {
        "id": "WQVYxiC9Bh0i",
        "colab": {
          "base_uri": "https://localhost:8080/"
        },
        "outputId": "bd38a461-5897-49aa-9bb1-b85f779b838a"
      },
      "outputs": [
        {
          "output_type": "stream",
          "name": "stdout",
          "text": [
            "WARNING:tensorflow:5 out of the last 17 calls to <function Model.make_predict_function.<locals>.predict_function at 0x7fda6efdec20> triggered tf.function retracing. Tracing is expensive and the excessive number of tracings could be due to (1) creating @tf.function repeatedly in a loop, (2) passing tensors with different shapes, (3) passing Python objects instead of tensors. For (1), please define your @tf.function outside of the loop. For (2), @tf.function has experimental_relax_shapes=True option that relaxes argument shapes that can avoid unnecessary retracing. For (3), please refer to https://www.tensorflow.org/guide/function#controlling_retracing and https://www.tensorflow.org/api_docs/python/tf/function for  more details.\n",
            "WARNING:tensorflow:6 out of the last 18 calls to <function Model.make_predict_function.<locals>.predict_function at 0x7fda6efdec20> triggered tf.function retracing. Tracing is expensive and the excessive number of tracings could be due to (1) creating @tf.function repeatedly in a loop, (2) passing tensors with different shapes, (3) passing Python objects instead of tensors. For (1), please define your @tf.function outside of the loop. For (2), @tf.function has experimental_relax_shapes=True option that relaxes argument shapes that can avoid unnecessary retracing. For (3), please refer to https://www.tensorflow.org/guide/function#controlling_retracing and https://www.tensorflow.org/api_docs/python/tf/function for  more details.\n"
          ]
        }
      ],
      "source": [
        "# extract a single face from a given photograph\n",
        "filename = '/content/drive/MyDrive/Selected/Image1.jpg'\n",
        "def extract_face(filename, required_size=(160, 160)):\n",
        "\t# load image from file\n",
        "\timage = Image.open(filename)\n",
        "\t# convert to RGB, if needed\n",
        "\timage = image.convert('RGB')\n",
        "\t# convert to array\n",
        "\tpixels = asarray(image)\n",
        "\t# create the detector, using default weights\n",
        "\tdetector = MTCNN()\n",
        "\t# detect faces in the image\n",
        "\tresults = detector.detect_faces(pixels)\n",
        "\t# extract the bounding box from the first face\n",
        "\tx1, y1, width, height = results[0]['box']\n",
        "\t# bug fix\n",
        "\tx1, y1 = abs(x1), abs(y1)\n",
        "\tx2, y2 = x1 + width, y1 + height\n",
        "\t# extract the face\n",
        "\tface = pixels[y1:y2, x1:x2]\n",
        "\t# resize pixels to the model size\n",
        "\timage = Image.fromarray(face)\n",
        "\timage = image.resize(required_size)\n",
        "\tface_array = asarray(image)\n",
        "\treturn face_array\n",
        " \n",
        "# load the photo and extract the face\n",
        "pixels = extract_face('/content/drive/MyDrive/Selected/Image1.jpg')"
      ]
    },
    {
      "cell_type": "code",
      "execution_count": null,
      "metadata": {
        "colab": {
          "base_uri": "https://localhost:8080/",
          "height": 1000
        },
        "id": "p-TioiJmGJuu",
        "outputId": "9dd8bf85-3405-4ad6-ad2b-57f72bedbe88"
      },
      "outputs": [
        {
          "output_type": "stream",
          "name": "stdout",
          "text": [
            "1 (160, 160, 3)\n",
            "2 (160, 160, 3)\n",
            "3 (160, 160, 3)\n",
            "4 (160, 160, 3)\n",
            "5 (160, 160, 3)\n",
            "6 (160, 160, 3)\n",
            "7 (160, 160, 3)\n",
            "8 (160, 160, 3)\n",
            "9 (160, 160, 3)\n",
            "10 (160, 160, 3)\n",
            "11 (160, 160, 3)\n",
            "12 (160, 160, 3)\n",
            "13 (160, 160, 3)\n",
            "14 (160, 160, 3)\n",
            "15 (160, 160, 3)\n",
            "16 (160, 160, 3)\n",
            "17 (160, 160, 3)\n",
            "18 (160, 160, 3)\n",
            "19 (160, 160, 3)\n",
            "20 (160, 160, 3)\n",
            "21 (160, 160, 3)\n",
            "22 (160, 160, 3)\n",
            "23 (160, 160, 3)\n",
            "24 (160, 160, 3)\n",
            "25 (160, 160, 3)\n",
            "26 (160, 160, 3)\n",
            "27 (160, 160, 3)\n",
            "28 (160, 160, 3)\n",
            "29 (160, 160, 3)\n",
            "30 (160, 160, 3)\n",
            "31 (160, 160, 3)\n",
            "32 (160, 160, 3)\n",
            "33 (160, 160, 3)\n",
            "34 (160, 160, 3)\n",
            "35 (160, 160, 3)\n",
            "36 (160, 160, 3)\n",
            "37 (160, 160, 3)\n",
            "38 (160, 160, 3)\n",
            "39 (160, 160, 3)\n",
            "40 (160, 160, 3)\n",
            "41 (160, 160, 3)\n",
            "42 (160, 160, 3)\n",
            "43 (160, 160, 3)\n",
            "44 (160, 160, 3)\n",
            "45 (160, 160, 3)\n",
            "46 (160, 160, 3)\n",
            "47 (160, 160, 3)\n",
            "48 (160, 160, 3)\n",
            "49 (160, 160, 3)\n",
            "50 (160, 160, 3)\n",
            "51 (160, 160, 3)\n",
            "52 (160, 160, 3)\n",
            "53 (160, 160, 3)\n",
            "54 (160, 160, 3)\n",
            "55 (160, 160, 3)\n",
            "56 (160, 160, 3)\n",
            "57 (160, 160, 3)\n",
            "58 (160, 160, 3)\n",
            "59 (160, 160, 3)\n",
            "60 (160, 160, 3)\n",
            "61 (160, 160, 3)\n",
            "62 (160, 160, 3)\n",
            "63 (160, 160, 3)\n",
            "64 (160, 160, 3)\n",
            "65 (160, 160, 3)\n",
            "66 (160, 160, 3)\n",
            "67 (160, 160, 3)\n",
            "68 (160, 160, 3)\n",
            "69 (160, 160, 3)\n",
            "70 (160, 160, 3)\n",
            "71 (160, 160, 3)\n",
            "72 (160, 160, 3)\n",
            "73 (160, 160, 3)\n",
            "74 (160, 160, 3)\n",
            "75 (160, 160, 3)\n",
            "76 (160, 160, 3)\n",
            "77 (160, 160, 3)\n",
            "78 (160, 160, 3)\n",
            "79 (160, 160, 3)\n",
            "80 (160, 160, 3)\n",
            "81 (160, 160, 3)\n",
            "82 (160, 160, 3)\n",
            "83 (160, 160, 3)\n",
            "84 (160, 160, 3)\n",
            "85 (160, 160, 3)\n",
            "86 (160, 160, 3)\n",
            "87 (160, 160, 3)\n",
            "88 (160, 160, 3)\n",
            "89 (160, 160, 3)\n",
            "90 (160, 160, 3)\n",
            "91 (160, 160, 3)\n",
            "92 (160, 160, 3)\n",
            "93 (160, 160, 3)\n",
            "94 (160, 160, 3)\n",
            "95 (160, 160, 3)\n",
            "96 (160, 160, 3)\n",
            "97 (160, 160, 3)\n",
            "98 (160, 160, 3)\n",
            "99 (160, 160, 3)\n",
            "100 (160, 160, 3)\n",
            "101 (160, 160, 3)\n",
            "102 (160, 160, 3)\n",
            "103 (160, 160, 3)\n",
            "104 (160, 160, 3)\n",
            "105 (160, 160, 3)\n",
            "106 (160, 160, 3)\n"
          ]
        },
        {
          "output_type": "display_data",
          "data": {
            "text/plain": [
              "<Figure size 432x288 with 106 Axes>"
            ],
            "image/png": "[encoded data removed]"
          },
          "metadata": {
            "needs_background": "light"
          }
        }
      ],
      "source": [
        "\n",
        "# demonstrate face detection on Pins Faces Dataset\n",
        "from os import listdir\n",
        "from PIL import Image\n",
        "from numpy import asarray\n",
        "from matplotlib import pyplot\n",
        "from mtcnn.mtcnn import MTCNN\n",
        " \n",
        "# extract a single face from a given photograph\n",
        "def extract_face(filename, required_size=(160, 160)):\n",
        "\t# load image from file\n",
        "\timage = Image.open(filename)\n",
        "\t# convert to RGB, if needed\n",
        "\timage = image.convert('RGB')\n",
        "\t# convert to array\n",
        "\tpixels = asarray(image)\n",
        "\t# create the detector, using default weights\n",
        "\tdetector = MTCNN()\n",
        "\t# detect faces in the image\n",
        "\tresults = detector.detect_faces(pixels)\n",
        "\t# extract the bounding box from the first face\n",
        "\tx1, y1, width, height = results[0]['box']\n",
        "\t# bug fix\n",
        "\tx1, y1 = abs(x1), abs(y1)\n",
        "\tx2, y2 = x1 + width, y1 + height\n",
        "\t# extract the face\n",
        "\tface = pixels[y1:y2, x1:x2]\n",
        "\t# resize pixels to the model size\n",
        "\timage = Image.fromarray(face)\n",
        "\timage = image.resize(required_size)\n",
        "\tface_array = asarray(image)\n",
        "\treturn face_array\n",
        " \n",
        "# specify folder to plot\n",
        "folder = '/content/drive/MyDrive/Selected/datasete_split/train/pins_Alex Lawther/'\n",
        "i = 1\n",
        "# enumerate files\n",
        "for filename in listdir(folder):\n",
        "\t# path\n",
        "\tpath = folder + filename\n",
        "\t# get face\n",
        "\tface = extract_face(path)\n",
        "\tprint(i, face.shape)\n",
        "\t# plot\n",
        "\tpyplot.subplot(8, 30, i)\n",
        "\tpyplot.axis('off')\n",
        "\tpyplot.imshow(face)\n",
        "\ti += 1\n",
        "pyplot.show()"
      ]
    },
    {
      "cell_type": "code",
      "execution_count": null,
      "metadata": {
        "id": "7UFTl11eOpXW"
      },
      "outputs": [],
      "source": [
        "# face detection for the Pins Faces Dataset\n",
        "from os import listdir\n",
        "from os.path import isdir\n",
        "from PIL import Image\n",
        "from matplotlib import pyplot\n",
        "from numpy import savez_compressed\n",
        "from numpy import asarray\n",
        "from mtcnn.mtcnn import MTCNN\n",
        "\n",
        "filename = '/content/drive/MyDrive/Selected/Image1.jpg'\n",
        "# extract a single face from a given photograph\n",
        "def extract_face(filename, required_size=(160, 160)):\n",
        "\t# load image from file\n",
        "\timage = Image.open(filename)\n",
        "\t# convert to RGB, if needed\n",
        "\timage = image.convert('RGB')\n",
        "\t# convert to array\n",
        "\tpixels = asarray(image)\n",
        "\t# create the detector, using default weights\n",
        "\tdetector = MTCNN()\n",
        "\t# detect faces in the image\n",
        "\tresults = detector.detect_faces(pixels)\n",
        "\t# extract the bounding box from the first face\n",
        "\tx1, y1, width, height = results[0][\"box\"]\n",
        "\t#print(results)\n",
        "\t# bug fix\n",
        "\tx1, y1 = abs(x1), abs(y1)\n",
        "\tx2, y2 = x1 + width, y1 + height\n",
        "\t# extract the face\n",
        "\tface = pixels[y1:y2, x1:x2]\n",
        "\t# resize pixels to the model size\n",
        "\timage = Image.fromarray(face)\n",
        "\timage = image.resize(required_size)\n",
        "\tface_array = asarray(image)\n",
        "\treturn face_array\n",
        "\n",
        "# load images and extract faces for all images in a directory\n",
        "def load_faces(directory):\n",
        "\tfaces = list()\n",
        "\t# enumerate files\n",
        "\tfor filename in listdir(directory):\n",
        "\t\t# path\n",
        "\t\tpath = directory + filename\n",
        "\t\t# get face\n",
        "\t\ttry:\n",
        "\t\t  face = extract_face(path)\n",
        "\t\t  faces.append(face)\n",
        "\t\texcept:\n",
        "\t\t\tcontinue\n",
        "\treturn faces\n",
        "\n",
        "# load a dataset that contains one subdir for each class that in turn contains images\n",
        "def load_dataset(directory):\n",
        "\tX, y = list(), list()\n",
        "\t# enumerate folders, on per class\n",
        "\tfor subdir in listdir(directory):\n",
        "\t\t# path\n",
        "\t\tpath = directory + subdir + '/'\n",
        "\t\t# skip any files that might be in the dir\n",
        "\t\tif not isdir(path):\n",
        "\t\t\tcontinue\n",
        "\t\t# load all faces in the subdirectory\n",
        "\t\tfaces = load_faces(path)\n",
        "\t\t# create labels\n",
        "\t\tlabels = [subdir for _ in range(len(faces))]\n",
        "\t\t# summarize progress\n",
        "\t\tprint('>loaded %d examples for class: %s' % (len(faces), subdir))\n",
        "\t\t# store\n",
        "\t\tX.extend(faces)\n",
        "\t\ty.extend(labels)\n",
        "\treturn asarray(X), asarray(y)"
      ]
    },
    {
      "cell_type": "code",
      "source": [
        "# load train dataset\n",
        "trainX, trainy = load_dataset('/content/drive/MyDrive/Selected/datasete_split/train/')\n",
        "print(trainX.shape, trainy.shape)"
      ],
      "metadata": {
        "id": "rp284F0r8Bpn",
        "colab": {
          "base_uri": "https://localhost:8080/"
        },
        "outputId": "1d386082-0aba-4504-8053-03c9062b6dca"
      },
      "execution_count": null,
      "outputs": [
        {
          "output_type": "stream",
          "name": "stdout",
          "text": [
            ">loaded 124 examples for class: pins_Tom Hiddleston\n",
            ">loaded 132 examples for class: pins_Tom Holland\n",
            ">loaded 116 examples for class: pins_Ursula Corbero\n",
            ">loaded 133 examples for class: pins_Zac Efron\n",
            ">loaded 138 examples for class: pins_Tom Hardy\n",
            ">loaded 123 examples for class: pins_Wentworth Miller\n",
            ">loaded 93 examples for class: pins_Tuppence Middleton\n",
            ">loaded 125 examples for class: pins_tom ellis\n",
            ">loaded 129 examples for class: pins_Zoe Saldana\n",
            ">loaded 96 examples for class: pins_Zendaya\n",
            ">loaded 134 examples for class: pins_Tom Cruise\n",
            ">loaded 90 examples for class: pins_Taylor Swift\n",
            ">loaded 107 examples for class: pins_Shakira Isabel Mebarak\n",
            ">loaded 111 examples for class: pins_Stephen Amell\n",
            ">loaded 140 examples for class: pins_scarlett johansson\n",
            ">loaded 108 examples for class: pins_Robert De Niro\n",
            ">loaded 111 examples for class: pins_Sarah Wayne Callies\n",
            ">loaded 142 examples for class: pins_Sophie Turner\n",
            ">loaded 129 examples for class: pins_Selena Gomez\n",
            ">loaded 163 examples for class: pins_Robert Downey Jr\n",
            ">loaded 112 examples for class: pins_Rami Malek\n",
            ">loaded 93 examples for class: pins_Rihanna\n",
            ">loaded 102 examples for class: pins_Richard Harmon\n",
            ">loaded 81 examples for class: pins_Neil Patrick Harris\n",
            ">loaded 137 examples for class: pins_Natalie Dormer\n",
            ">loaded 119 examples for class: pins_Penn Badgley\n",
            ">loaded 116 examples for class: pins_Natalie Portman\n",
            ">loaded 93 examples for class: pins_Nadia Hilker\n",
            ">loaded 87 examples for class: pins_Pedro Alonso\n",
            ">loaded 124 examples for class: pins_Rebecca Ferguson\n",
            ">loaded 123 examples for class: pins_Miley Cyrus\n",
            ">loaded 66 examples for class: pins_Mark Zuckerberg\n",
            ">loaded 69 examples for class: pins_Morgan Freeman\n",
            ">loaded 84 examples for class: pins_Maria Pedraza\n",
            ">loaded 107 examples for class: pins_melissa fumero\n",
            ">loaded 133 examples for class: pins_Millie Bobby Brown\n",
            ">loaded 145 examples for class: pins_Megan Fox\n",
            ">loaded 122 examples for class: pins_Morena Baccarin\n",
            ">loaded 123 examples for class: pins_Mark Ruffalo\n",
            ">loaded 112 examples for class: pins_Marie Avgeropoulos\n",
            ">loaded 154 examples for class: pins_margot robbie\n",
            ">loaded 148 examples for class: pins_Logan Lerman\n",
            ">loaded 59 examples for class: pins_Lionel Messi\n",
            ">loaded 163 examples for class: pins_Leonardo DiCaprio\n",
            ">loaded 134 examples for class: pins_Madelaine Petsch\n",
            ">loaded 103 examples for class: pins_Lili Reinhart\n",
            ">loaded 117 examples for class: pins_Lindsey Morgan\n",
            ">loaded 142 examples for class: pins_kiernen shipka\n",
            ">loaded 119 examples for class: pins_Krysten Ritter\n",
            ">loaded 135 examples for class: pins_Maisie Williams\n",
            ">loaded 126 examples for class: pins_Johnny Depp\n",
            ">loaded 157 examples for class: pins_Katherine Langford\n",
            ">loaded 71 examples for class: pins_jeff bezos\n",
            ">loaded 79 examples for class: pins_Jimmy Fallon\n",
            ">loaded 111 examples for class: pins_Keanu Reeves\n",
            ">loaded 123 examples for class: pins_Katharine Mcphee\n",
            ">loaded 124 examples for class: pins_Jennifer Lawrence\n",
            ">loaded 81 examples for class: pins_Josh Radnor\n",
            ">loaded 98 examples for class: pins_Jessica Barden\n",
            ">loaded 115 examples for class: pins_Jeremy Renner\n",
            ">loaded 147 examples for class: pins_Emma Watson\n",
            ">loaded 111 examples for class: pins_Jake Mcdorman\n",
            ">loaded 125 examples for class: pins_Hugh Jackman\n",
            ">loaded 130 examples for class: pins_Gwyneth Paltrow\n",
            ">loaded 134 examples for class: pins_Henry Cavil\n",
            ">loaded 88 examples for class: pins_Inbar Lavi\n",
            ">loaded 109 examples for class: pins_Irina Shayk\n",
            ">loaded 139 examples for class: pins_gal gadot\n",
            ">loaded 128 examples for class: pins_Jason Momoa\n",
            ">loaded 128 examples for class: pins_grant gustin\n",
            ">loaded 107 examples for class: pins_Elizabeth Lail\n",
            ">loaded 96 examples for class: pins_Emma Stone\n",
            ">loaded 98 examples for class: pins_Dwayne Johnson\n",
            ">loaded 113 examples for class: pins_Eliza Taylor\n",
            ">loaded 145 examples for class: pins_Emilia Clarke\n",
            ">loaded 154 examples for class: pins_elizabeth olsen\n",
            ">loaded 94 examples for class: pins_elon musk\n",
            ">loaded 131 examples for class: pins_ellen page\n",
            ">loaded 126 examples for class: pins_Danielle Panabaker\n",
            ">loaded 102 examples for class: pins_Dominic Purcell\n",
            ">loaded 71 examples for class: pins_Brian J. Smith\n",
            ">loaded 123 examples for class: pins_Chris Pratt\n",
            ">loaded 107 examples for class: pins_Christian Bale\n",
            ">loaded 66 examples for class: pins_Cristiano Ronaldo\n",
            ">loaded 113 examples for class: pins_camila mendes\n",
            ">loaded 116 examples for class: pins_Chris Evans\n",
            ">loaded 111 examples for class: pins_Chris Hemsworth\n",
            ">loaded 95 examples for class: pins_Bobby Morley\n",
            ">loaded 118 examples for class: pins_Brie Larson\n",
            ">loaded 146 examples for class: pins_Brenton Thwaites\n",
            ">loaded 136 examples for class: pins_barbara palvin\n",
            ">loaded 111 examples for class: pins_Avril Lavigne\n",
            ">loaded 88 examples for class: pins_Ben Affleck\n",
            ">loaded 137 examples for class: pins_Andy Samberg\n",
            ">loaded 81 examples for class: pins_Amanda Crew\n",
            ">loaded 86 examples for class: pins_Anthony Mackie\n",
            ">loaded 142 examples for class: pins_Anne Hathaway\n",
            ">loaded 152 examples for class: pins_amber heard\n",
            ">loaded 85 examples for class: pins_Bill Gates\n",
            ">loaded 83 examples for class: pins_barack obama\n",
            ">loaded 106 examples for class: pins_Alex Lawther\n",
            ">loaded 97 examples for class: pins_Alvaro Morte\n",
            ">loaded 147 examples for class: pins_alycia dabnem carey\n",
            ">loaded 155 examples for class: pins_Adriana Lima\n",
            ">loaded 157 examples for class: pins_Alexandra Daddario\n",
            "(12185, 160, 160, 3) (12185,)\n"
          ]
        }
      ]
    },
    {
      "cell_type": "code",
      "source": [
        "# load test dataset\n",
        "testX, testy = load_dataset('/content/drive/MyDrive/Selected/datasete_split/val/')\n",
        "print(testX.shape, testy.shape)\n",
        "# save arrays to one file in compressed format\n",
        "savez_compressed('pins-faces-dataset.npz', trainX, trainy, testX, testy)"
      ],
      "metadata": {
        "id": "6fBLQJY376O3",
        "colab": {
          "base_uri": "https://localhost:8080/"
        },
        "outputId": "206d2e81-e646-4c42-883c-b78d271c5bab"
      },
      "execution_count": null,
      "outputs": [
        {
          "output_type": "stream",
          "name": "stdout",
          "text": [
            ">loaded 36 examples for class: pins_Tom Hiddleston\n",
            ">loaded 37 examples for class: pins_Tom Holland\n",
            ">loaded 32 examples for class: pins_Ursula Corbero\n",
            ">loaded 37 examples for class: pins_Zac Efron\n",
            ">loaded 39 examples for class: pins_Tom Hardy\n",
            ">loaded 35 examples for class: pins_Wentworth Miller\n",
            ">loaded 26 examples for class: pins_Tuppence Middleton\n",
            ">loaded 36 examples for class: pins_tom ellis\n",
            ">loaded 36 examples for class: pins_Zoe Saldana\n",
            ">loaded 26 examples for class: pins_Zendaya\n",
            ">loaded 38 examples for class: pins_Tom Cruise\n",
            ">loaded 24 examples for class: pins_Taylor Swift\n",
            ">loaded 30 examples for class: pins_Shakira Isabel Mebarak\n",
            ">loaded 31 examples for class: pins_Stephen Amell\n",
            ">loaded 40 examples for class: pins_scarlett johansson\n",
            ">loaded 31 examples for class: pins_Robert De Niro\n",
            ">loaded 31 examples for class: pins_Sarah Wayne Callies\n",
            ">loaded 40 examples for class: pins_Sophie Turner\n",
            ">loaded 37 examples for class: pins_Selena Gomez\n",
            ">loaded 46 examples for class: pins_Robert Downey Jr\n",
            ">loaded 32 examples for class: pins_Rami Malek\n",
            ">loaded 26 examples for class: pins_Rihanna\n",
            ">loaded 29 examples for class: pins_Richard Harmon\n",
            ">loaded 23 examples for class: pins_Neil Patrick Harris\n",
            ">loaded 39 examples for class: pins_Natalie Dormer\n",
            ">loaded 34 examples for class: pins_Penn Badgley\n",
            ">loaded 33 examples for class: pins_Natalie Portman\n",
            ">loaded 26 examples for class: pins_Nadia Hilker\n",
            ">loaded 25 examples for class: pins_Pedro Alonso\n",
            ">loaded 35 examples for class: pins_Rebecca Ferguson\n",
            ">loaded 35 examples for class: pins_Miley Cyrus\n",
            ">loaded 19 examples for class: pins_Mark Zuckerberg\n",
            ">loaded 21 examples for class: pins_Morgan Freeman\n",
            ">loaded 24 examples for class: pins_Maria Pedraza\n",
            ">loaded 30 examples for class: pins_melissa fumero\n",
            ">loaded 38 examples for class: pins_Millie Bobby Brown\n",
            ">loaded 41 examples for class: pins_Megan Fox\n",
            ">loaded 35 examples for class: pins_Morena Baccarin\n",
            ">loaded 35 examples for class: pins_Mark Ruffalo\n",
            ">loaded 32 examples for class: pins_Marie Avgeropoulos\n",
            ">loaded 44 examples for class: pins_margot robbie\n",
            ">loaded 42 examples for class: pins_Logan Lerman\n",
            ">loaded 17 examples for class: pins_Lionel Messi\n",
            ">loaded 47 examples for class: pins_Leonardo DiCaprio\n",
            ">loaded 37 examples for class: pins_Madelaine Petsch\n",
            ">loaded 30 examples for class: pins_Lili Reinhart\n",
            ">loaded 33 examples for class: pins_Lindsey Morgan\n",
            ">loaded 40 examples for class: pins_kiernen shipka\n",
            ">loaded 34 examples for class: pins_Krysten Ritter\n",
            ">loaded 38 examples for class: pins_Maisie Williams\n",
            ">loaded 35 examples for class: pins_Johnny Depp\n",
            ">loaded 45 examples for class: pins_Katherine Langford\n",
            ">loaded 20 examples for class: pins_jeff bezos\n",
            ">loaded 22 examples for class: pins_Jimmy Fallon\n",
            ">loaded 30 examples for class: pins_Keanu Reeves\n",
            ">loaded 35 examples for class: pins_Katharine Mcphee\n",
            ">loaded 36 examples for class: pins_Jennifer Lawrence\n",
            ">loaded 23 examples for class: pins_Josh Radnor\n",
            ">loaded 28 examples for class: pins_Jessica Barden\n",
            ">loaded 33 examples for class: pins_Jeremy Renner\n",
            ">loaded 42 examples for class: pins_Emma Watson\n",
            ">loaded 31 examples for class: pins_Jake Mcdorman\n",
            ">loaded 35 examples for class: pins_Hugh Jackman\n",
            ">loaded 37 examples for class: pins_Gwyneth Paltrow\n",
            ">loaded 39 examples for class: pins_Henry Cavil\n",
            ">loaded 25 examples for class: pins_Inbar Lavi\n",
            ">loaded 31 examples for class: pins_Irina Shayk\n",
            ">loaded 39 examples for class: pins_gal gadot\n",
            ">loaded 36 examples for class: pins_Jason Momoa\n",
            ">loaded 36 examples for class: pins_grant gustin\n",
            ">loaded 31 examples for class: pins_Elizabeth Lail\n",
            ">loaded 27 examples for class: pins_Emma Stone\n",
            ">loaded 28 examples for class: pins_Dwayne Johnson\n",
            ">loaded 32 examples for class: pins_Eliza Taylor\n",
            ">loaded 41 examples for class: pins_Emilia Clarke\n",
            ">loaded 44 examples for class: pins_elizabeth olsen\n",
            ">loaded 27 examples for class: pins_elon musk\n",
            ">loaded 37 examples for class: pins_ellen page\n",
            ">loaded 36 examples for class: pins_Danielle Panabaker\n",
            ">loaded 29 examples for class: pins_Dominic Purcell\n",
            ">loaded 20 examples for class: pins_Brian J. Smith\n",
            ">loaded 35 examples for class: pins_Chris Pratt\n",
            ">loaded 30 examples for class: pins_Christian Bale\n",
            ">loaded 19 examples for class: pins_Cristiano Ronaldo\n",
            ">loaded 32 examples for class: pins_camila mendes\n",
            ">loaded 33 examples for class: pins_Chris Evans\n",
            ">loaded 31 examples for class: pins_Chris Hemsworth\n",
            ">loaded 27 examples for class: pins_Bobby Morley\n",
            ">loaded 33 examples for class: pins_Brie Larson\n",
            ">loaded 41 examples for class: pins_Brenton Thwaites\n",
            ">loaded 39 examples for class: pins_barbara palvin\n",
            ">loaded 31 examples for class: pins_Avril Lavigne\n",
            ">loaded 25 examples for class: pins_Ben Affleck\n",
            ">loaded 39 examples for class: pins_Andy Samberg\n",
            ">loaded 23 examples for class: pins_Amanda Crew\n",
            ">loaded 24 examples for class: pins_Anthony Mackie\n",
            ">loaded 39 examples for class: pins_Anne Hathaway\n",
            ">loaded 43 examples for class: pins_amber heard\n",
            ">loaded 24 examples for class: pins_Bill Gates\n",
            ">loaded 23 examples for class: pins_barack obama\n",
            ">loaded 30 examples for class: pins_Alex Lawther\n",
            ">loaded 27 examples for class: pins_Alvaro Morte\n",
            ">loaded 42 examples for class: pins_alycia dabnem carey\n",
            ">loaded 42 examples for class: pins_Adriana Lima\n",
            ">loaded 45 examples for class: pins_Alexandra Daddario\n",
            "(3449, 160, 160, 3) (3449,)\n"
          ]
        }
      ]
    },
    {
      "cell_type": "code",
      "execution_count": null,
      "metadata": {
        "id": "37KEHSb7fW8y",
        "colab": {
          "base_uri": "https://localhost:8080/"
        },
        "outputId": "e30179e2-fb22-477b-fc94-571e1882bbf9"
      },
      "outputs": [
        {
          "output_type": "stream",
          "name": "stdout",
          "text": [
            "Loaded:  (12185, 160, 160, 3) (12185,) (3449, 160, 160, 3) (3449,)\n",
            "WARNING:tensorflow:No training configuration found in the save file, so the model was *not* compiled. Compile it manually.\n",
            "Loaded Model\n",
            "(12185, 128)\n",
            "(3449, 128)\n"
          ]
        }
      ],
      "source": [
        "# calculate a face embedding for each face in the dataset using facenet\n",
        "from numpy import load\n",
        "from numpy import expand_dims\n",
        "from numpy import asarray\n",
        "from numpy import savez_compressed\n",
        "from keras.models import load_model\n",
        "\n",
        "# get the face embedding for one face\n",
        "def get_embedding(model, face_pixels):\n",
        "\t# scale pixel values\n",
        "\tface_pixels = face_pixels.astype('float32')\n",
        "\t# standardize pixel values across channels (global)\n",
        "\tmean, std = face_pixels.mean(), face_pixels.std()\n",
        "\tface_pixels = (face_pixels - mean) / std\n",
        "\t# transform face into one sample\n",
        "\tsamples = expand_dims(face_pixels, axis=0)\n",
        "\t# make prediction to get embedding\n",
        "\tyhat = model.predict(samples)\n",
        "\treturn yhat[0]\n",
        "\n",
        "# load the face dataset\n",
        "data = load('/content/drive/MyDrive/Selected/pins-faces-dataset.npz')\n",
        "trainX, trainy, testX, testy = data['arr_0'], data['arr_1'], data['arr_2'], data['arr_3']\n",
        "print('Loaded: ', trainX.shape, trainy.shape, testX.shape, testy.shape)\n",
        "# load the facenet model\n",
        "model = load_model('/content/drive/MyDrive/Selected/facenet_keras.h5')\n",
        "print('Loaded Model')\n",
        "# convert each face in the train set to an embedding\n",
        "newTrainX = list()\n",
        "for face_pixels in trainX:\n",
        "\tembedding = get_embedding(model, face_pixels)\n",
        "\tnewTrainX.append(embedding)\n",
        "newTrainX = asarray(newTrainX)\n",
        "print(newTrainX.shape)\n",
        "# convert each face in the test set to an embedding\n",
        "newTestX = list()\n",
        "for face_pixels in testX:\n",
        "\tembedding = get_embedding(model, face_pixels)\n",
        "\tnewTestX.append(embedding)\n",
        "newTestX = asarray(newTestX)\n",
        "print(newTestX.shape)\n",
        "# save arrays to one file in compressed format\n",
        "savez_compressed('pins-faces-embeddings.npz', newTrainX, trainy, newTestX, testy)"
      ]
    },
    {
      "cell_type": "code",
      "execution_count": null,
      "metadata": {
        "id": "j2FSRYtMjwYG",
        "colab": {
          "base_uri": "https://localhost:8080/"
        },
        "outputId": "590dd573-1741-4fb4-d361-78addce900b1"
      },
      "outputs": [
        {
          "output_type": "stream",
          "name": "stdout",
          "text": [
            "Dataset: train=12185, test=3449\n",
            "Accuracy: train=99.598, test=98.231\n"
          ]
        }
      ],
      "source": [
        "# develop a classifier for the Pins Faces Dataset\n",
        "from numpy import load\n",
        "from sklearn.metrics import accuracy_score\n",
        "from sklearn.preprocessing import LabelEncoder\n",
        "from sklearn.preprocessing import Normalizer\n",
        "from sklearn.svm import SVC\n",
        "# load dataset\n",
        "data = load('/content/drive/MyDrive/Selected/pins-faces-embeddings.npz')\n",
        "trainX, trainy, testX, testy = data['arr_0'], data['arr_1'], data['arr_2'], data['arr_3']\n",
        "print('Dataset: train=%d, test=%d' % (trainX.shape[0], testX.shape[0]))\n",
        "# normalize input vectors\n",
        "in_encoder = Normalizer(norm='l2')\n",
        "trainX = in_encoder.transform(trainX)\n",
        "testX = in_encoder.transform(testX)\n",
        "# label encode targets\n",
        "out_encoder = LabelEncoder()\n",
        "out_encoder.fit(trainy)\n",
        "trainy = out_encoder.transform(trainy)\n",
        "testy = out_encoder.transform(testy)\n",
        "# fit model\n",
        "model = SVC(kernel='linear', probability=True)\n",
        "model.fit(trainX, trainy)\n",
        "# predict\n",
        "yhat_train = model.predict(trainX)\n",
        "yhat_test = model.predict(testX)\n",
        "# score\n",
        "score_train = accuracy_score(trainy, yhat_train)\n",
        "score_test = accuracy_score(testy, yhat_test)\n",
        "# summarize\n",
        "print('Accuracy: train=%.3f, test=%.3f' % (score_train*100, score_test*100))"
      ]
    },
    {
      "cell_type": "code",
      "execution_count": 4,
      "metadata": {
        "id": "Qh2deCfVk1hE",
        "colab": {
          "base_uri": "https://localhost:8080/",
          "height": 317
        },
        "outputId": "8df3be1e-d960-4c3e-d11b-93dc37783ee1"
      },
      "outputs": [
        {
          "output_type": "stream",
          "name": "stdout",
          "text": [
            "Predicted: pins_Jake Mcdorman (85.954)\n",
            "Expected: pins_Jake Mcdorman\n"
          ]
        },
        {
          "output_type": "display_data",
          "data": {
            "text/plain": [
              "<Figure size 432x288 with 1 Axes>"
            ],
            "image/png": "[encoded data removed]"
          },
          "metadata": {
            "needs_background": "light"
          }
        }
      ],
      "source": [
        "#@title\n",
        "# develop a classifier for Pins Faces Dataset\n",
        "from random import choice\n",
        "from numpy import load\n",
        "from numpy import expand_dims\n",
        "from sklearn.preprocessing import LabelEncoder\n",
        "from sklearn.preprocessing import Normalizer\n",
        "from sklearn.svm import SVC\n",
        "from matplotlib import pyplot\n",
        "# load faces\n",
        "data = load('/content/drive/MyDrive/Selected/pins-faces-dataset.npz')\n",
        "testX_faces = data['arr_2']\n",
        "# load face embeddings\n",
        "data = load('/content/drive/MyDrive/Selected/pins-faces-embeddings.npz')\n",
        "trainX, trainy, testX, testy = data['arr_0'], data['arr_1'], data['arr_2'], data['arr_3']\n",
        "# normalize input vectors\n",
        "in_encoder = Normalizer(norm='l2')\n",
        "trainX = in_encoder.transform(trainX)\n",
        "testX = in_encoder.transform(testX)\n",
        "# label encode targets\n",
        "out_encoder = LabelEncoder()\n",
        "out_encoder.fit(trainy)\n",
        "trainy = out_encoder.transform(trainy)\n",
        "testy = out_encoder.transform(testy)\n",
        "# fit model\n",
        "model = SVC(kernel='linear', probability=True)\n",
        "model.fit(trainX, trainy)\n",
        "# test model on a random example from the test dataset\n",
        "selection = choice([i for i in range(testX.shape[0])])\n",
        "random_face_pixels = testX_faces[selection]\n",
        "random_face_emb = testX[selection]\n",
        "random_face_class = testy[selection]\n",
        "random_face_name = out_encoder.inverse_transform([random_face_class])\n",
        "# prediction for the face\n",
        "samples = expand_dims(random_face_emb, axis=0)\n",
        "yhat_class = model.predict(samples)\n",
        "yhat_prob = model.predict_proba(samples)\n",
        "# get name\n",
        "class_index = yhat_class[0]\n",
        "class_probability = yhat_prob[0,class_index] * 100\n",
        "predict_names = out_encoder.inverse_transform(yhat_class)\n",
        "print('Predicted: %s (%.3f)' % (predict_names[0], class_probability))\n",
        "print('Expected: %s' % random_face_name[0])\n",
        "# plot for fun\n",
        "pyplot.imshow(random_face_pixels)\n",
        "title = '%s (%.3f)' % (predict_names[0], class_probability)\n",
        "pyplot.title(title)\n",
        "pyplot.show()"
      ]
    }
  ]
}